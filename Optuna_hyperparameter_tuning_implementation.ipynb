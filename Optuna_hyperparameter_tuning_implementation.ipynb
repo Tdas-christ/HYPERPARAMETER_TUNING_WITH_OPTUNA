{
  "nbformat": 4,
  "nbformat_minor": 0,
  "metadata": {
    "colab": {
      "provenance": []
    },
    "kernelspec": {
      "name": "python3",
      "display_name": "Python 3"
    },
    "language_info": {
      "name": "python"
    }
  },
  "cells": [
    {
      "cell_type": "code",
      "execution_count": 5,
      "metadata": {
        "colab": {
          "base_uri": "https://localhost:8080/"
        },
        "id": "AdQxwMDvTdM5",
        "outputId": "2e22c1ca-e038-4471-9e88-c2b320f5e492"
      },
      "outputs": [
        {
          "output_type": "stream",
          "name": "stdout",
          "text": [
            "Requirement already satisfied: optuna in /usr/local/lib/python3.10/dist-packages (3.6.1)\n",
            "Requirement already satisfied: alembic>=1.5.0 in /usr/local/lib/python3.10/dist-packages (from optuna) (1.13.2)\n",
            "Requirement already satisfied: colorlog in /usr/local/lib/python3.10/dist-packages (from optuna) (6.8.2)\n",
            "Requirement already satisfied: numpy in /usr/local/lib/python3.10/dist-packages (from optuna) (1.25.2)\n",
            "Requirement already satisfied: packaging>=20.0 in /usr/local/lib/python3.10/dist-packages (from optuna) (24.1)\n",
            "Requirement already satisfied: sqlalchemy>=1.3.0 in /usr/local/lib/python3.10/dist-packages (from optuna) (2.0.31)\n",
            "Requirement already satisfied: tqdm in /usr/local/lib/python3.10/dist-packages (from optuna) (4.66.4)\n",
            "Requirement already satisfied: PyYAML in /usr/local/lib/python3.10/dist-packages (from optuna) (6.0.1)\n",
            "Requirement already satisfied: Mako in /usr/local/lib/python3.10/dist-packages (from alembic>=1.5.0->optuna) (1.3.5)\n",
            "Requirement already satisfied: typing-extensions>=4 in /usr/local/lib/python3.10/dist-packages (from alembic>=1.5.0->optuna) (4.12.2)\n",
            "Requirement already satisfied: greenlet!=0.4.17 in /usr/local/lib/python3.10/dist-packages (from sqlalchemy>=1.3.0->optuna) (3.0.3)\n",
            "Requirement already satisfied: MarkupSafe>=0.9.2 in /usr/local/lib/python3.10/dist-packages (from Mako->alembic>=1.5.0->optuna) (2.1.5)\n"
          ]
        }
      ],
      "source": [
        "pip install optuna"
      ]
    },
    {
      "cell_type": "code",
      "source": [
        "# Loading datasets and required libraries\n",
        "import optuna\n",
        "from sklearn.datasets import load_iris\n",
        "from sklearn.model_selection import train_test_split\n",
        "from sklearn.svm import SVC\n",
        "from sklearn.metrics import accuracy_score"
      ],
      "metadata": {
        "id": "SoNljnaZTkWF"
      },
      "execution_count": 6,
      "outputs": []
    },
    {
      "cell_type": "code",
      "source": [
        "iris = load_iris()\n",
        "x_train, x_test, y_train, y_test = train_test_split(iris.data, iris.target, test_size=0.2, random_state=42)"
      ],
      "metadata": {
        "id": "IisOsgm7T7vh"
      },
      "execution_count": 16,
      "outputs": []
    },
    {
      "cell_type": "code",
      "source": [
        "#creating an objective function\n",
        "def objective(trial):\n",
        "  #Defining hyperparameters\n",
        "  c = trial.suggest_float(\"C\", 1e-10, 1e10, log=True)\n",
        "  kernel = trial.suggest_categorical(\"kernel\", [\"linear\", \"poly\", \"rbf\", \"sigmoid\"])\n",
        "\n",
        "  #creating and training our model\n",
        "  model = SVC(C=c, kernel=kernel, random_state=42)\n",
        "  model.fit(x_train, y_train)\n",
        "\n",
        "  # Evaluating the model\n",
        "  y_pred = model.predict(x_test)\n",
        "  accuracy = accuracy_score(y_test, y_pred)\n",
        "\n",
        "  return accuracy\n"
      ],
      "metadata": {
        "id": "u8kCdGjMUK8r"
      },
      "execution_count": 17,
      "outputs": []
    },
    {
      "cell_type": "markdown",
      "source": [
        "In particular, we’re using two methods here: .suggest_float() and .suggest_categorical() to define our search space for the two hyperparameters C and kernel."
      ],
      "metadata": {
        "id": "dc-hpZuqVjqQ"
      }
    },
    {
      "cell_type": "code",
      "source": [
        "#Creating a study object\n",
        "study = optuna.create_study(direction='maximize')\n",
        "study.optimize(objective, n_trials=100)"
      ],
      "metadata": {
        "colab": {
          "base_uri": "https://localhost:8080/"
        },
        "id": "tvY1zPw3Vl1_",
        "outputId": "5b08c85a-60f2-4fd2-dfac-3bc9a9e56fc8"
      },
      "execution_count": 18,
      "outputs": [
        {
          "output_type": "stream",
          "name": "stderr",
          "text": [
            "[I 2024-07-15 03:09:10,475] A new study created in memory with name: no-name-2af88c21-9016-4e54-8126-12eb211a5575\n",
            "[I 2024-07-15 03:09:10,485] Trial 0 finished with value: 0.3 and parameters: {'C': 4.6983421717355987e-07, 'kernel': 'linear'}. Best is trial 0 with value: 0.3.\n",
            "[I 2024-07-15 03:09:10,491] Trial 1 finished with value: 0.9333333333333333 and parameters: {'C': 0.0006518299283692393, 'kernel': 'poly'}. Best is trial 1 with value: 0.9333333333333333.\n",
            "[I 2024-07-15 03:09:10,500] Trial 2 finished with value: 0.9333333333333333 and parameters: {'C': 6869313.27431322, 'kernel': 'rbf'}. Best is trial 1 with value: 0.9333333333333333.\n",
            "[I 2024-07-15 03:09:10,508] Trial 3 finished with value: 0.9333333333333333 and parameters: {'C': 9353511627.76191, 'kernel': 'rbf'}. Best is trial 1 with value: 0.9333333333333333.\n",
            "[I 2024-07-15 03:09:10,513] Trial 4 finished with value: 1.0 and parameters: {'C': 31.318140794712193, 'kernel': 'poly'}. Best is trial 4 with value: 1.0.\n",
            "[I 2024-07-15 03:09:10,519] Trial 5 finished with value: 1.0 and parameters: {'C': 0.422676071481788, 'kernel': 'poly'}. Best is trial 4 with value: 1.0.\n",
            "[I 2024-07-15 03:09:10,528] Trial 6 finished with value: 0.03333333333333333 and parameters: {'C': 752576.1350666304, 'kernel': 'sigmoid'}. Best is trial 4 with value: 1.0.\n",
            "[I 2024-07-15 03:09:10,536] Trial 7 finished with value: 0.3 and parameters: {'C': 1.1363839724185034e-08, 'kernel': 'linear'}. Best is trial 4 with value: 1.0.\n",
            "[I 2024-07-15 03:09:10,926] Trial 8 finished with value: 0.9666666666666667 and parameters: {'C': 3256711.4795568273, 'kernel': 'poly'}. Best is trial 4 with value: 1.0.\n",
            "[I 2024-07-15 03:09:10,933] Trial 9 finished with value: 0.3 and parameters: {'C': 0.023714436742414188, 'kernel': 'rbf'}. Best is trial 4 with value: 1.0.\n",
            "[I 2024-07-15 03:09:10,956] Trial 10 finished with value: 0.03333333333333333 and parameters: {'C': 423.50710797168153, 'kernel': 'sigmoid'}. Best is trial 4 with value: 1.0.\n",
            "[I 2024-07-15 03:09:10,968] Trial 11 finished with value: 1.0 and parameters: {'C': 27.716730920793644, 'kernel': 'poly'}. Best is trial 4 with value: 1.0.\n",
            "[I 2024-07-15 03:09:10,982] Trial 12 finished with value: 0.8666666666666667 and parameters: {'C': 0.0010372624311621097, 'kernel': 'poly'}. Best is trial 4 with value: 1.0.\n",
            "[I 2024-07-15 03:09:10,998] Trial 13 finished with value: 1.0 and parameters: {'C': 472.7485157627394, 'kernel': 'poly'}. Best is trial 4 with value: 1.0.\n",
            "[I 2024-07-15 03:09:11,011] Trial 14 finished with value: 1.0 and parameters: {'C': 0.3938760058954245, 'kernel': 'poly'}. Best is trial 4 with value: 1.0.\n",
            "[I 2024-07-15 03:09:11,024] Trial 15 finished with value: 0.3 and parameters: {'C': 8.343904866734287e-06, 'kernel': 'poly'}. Best is trial 4 with value: 1.0.\n",
            "[I 2024-07-15 03:09:11,038] Trial 16 finished with value: 1.0 and parameters: {'C': 16.940541568774744, 'kernel': 'poly'}. Best is trial 4 with value: 1.0.\n",
            "[I 2024-07-15 03:09:11,052] Trial 17 finished with value: 0.03333333333333333 and parameters: {'C': 46007.981300237385, 'kernel': 'sigmoid'}. Best is trial 4 with value: 1.0.\n",
            "[I 2024-07-15 03:09:11,068] Trial 18 finished with value: 1.0 and parameters: {'C': 0.18739276148776005, 'kernel': 'linear'}. Best is trial 4 with value: 1.0.\n",
            "[I 2024-07-15 03:09:11,113] Trial 19 finished with value: 0.9666666666666667 and parameters: {'C': 7481.426958283639, 'kernel': 'poly'}. Best is trial 4 with value: 1.0.\n",
            "[I 2024-07-15 03:09:11,515] Trial 20 finished with value: 0.9666666666666667 and parameters: {'C': 2425907597.1763835, 'kernel': 'poly'}. Best is trial 4 with value: 1.0.\n",
            "[I 2024-07-15 03:09:11,528] Trial 21 finished with value: 1.0 and parameters: {'C': 12.130067527715703, 'kernel': 'poly'}. Best is trial 4 with value: 1.0.\n",
            "[I 2024-07-15 03:09:11,542] Trial 22 finished with value: 1.0 and parameters: {'C': 20.5120702361589, 'kernel': 'poly'}. Best is trial 4 with value: 1.0.\n",
            "[I 2024-07-15 03:09:11,555] Trial 23 finished with value: 0.9666666666666667 and parameters: {'C': 0.002855046010163567, 'kernel': 'poly'}. Best is trial 4 with value: 1.0.\n",
            "[I 2024-07-15 03:09:11,569] Trial 24 finished with value: 0.3 and parameters: {'C': 1.084369480169441e-05, 'kernel': 'poly'}. Best is trial 4 with value: 1.0.\n",
            "[I 2024-07-15 03:09:11,586] Trial 25 finished with value: 1.0 and parameters: {'C': 501.64052190700335, 'kernel': 'poly'}. Best is trial 4 with value: 1.0.\n",
            "[I 2024-07-15 03:09:11,599] Trial 26 finished with value: 1.0 and parameters: {'C': 1.5393502915607735, 'kernel': 'rbf'}. Best is trial 4 with value: 1.0.\n",
            "[I 2024-07-15 03:09:11,614] Trial 27 finished with value: 0.03333333333333333 and parameters: {'C': 10060.803293893565, 'kernel': 'sigmoid'}. Best is trial 4 with value: 1.0.\n",
            "[I 2024-07-15 03:09:11,627] Trial 28 finished with value: 0.3 and parameters: {'C': 1.6810553579419755e-10, 'kernel': 'linear'}. Best is trial 4 with value: 1.0.\n",
            "[I 2024-07-15 03:09:11,643] Trial 29 finished with value: 0.3 and parameters: {'C': 3.828585601867908e-05, 'kernel': 'linear'}. Best is trial 4 with value: 1.0.\n",
            "[I 2024-07-15 03:09:11,658] Trial 30 finished with value: 1.0 and parameters: {'C': 0.05476032456992382, 'kernel': 'poly'}. Best is trial 4 with value: 1.0.\n",
            "[I 2024-07-15 03:09:11,673] Trial 31 finished with value: 1.0 and parameters: {'C': 251.83424101581267, 'kernel': 'poly'}. Best is trial 4 with value: 1.0.\n",
            "[I 2024-07-15 03:09:11,687] Trial 32 finished with value: 0.9666666666666667 and parameters: {'C': 1.512610360401245, 'kernel': 'poly'}. Best is trial 4 with value: 1.0.\n",
            "[I 2024-07-15 03:09:11,708] Trial 33 finished with value: 1.0 and parameters: {'C': 364.5055091450536, 'kernel': 'poly'}. Best is trial 4 with value: 1.0.\n",
            "[I 2024-07-15 03:09:12,108] Trial 34 finished with value: 0.9666666666666667 and parameters: {'C': 100907.32377562873, 'kernel': 'poly'}. Best is trial 4 with value: 1.0.\n",
            "[I 2024-07-15 03:09:12,123] Trial 35 finished with value: 0.3 and parameters: {'C': 0.008865019225279889, 'kernel': 'rbf'}. Best is trial 4 with value: 1.0.\n",
            "[I 2024-07-15 03:09:12,533] Trial 36 finished with value: 0.9666666666666667 and parameters: {'C': 27577261.980253927, 'kernel': 'poly'}. Best is trial 4 with value: 1.0.\n",
            "[I 2024-07-15 03:09:12,547] Trial 37 finished with value: 1.0 and parameters: {'C': 17.70370908419457, 'kernel': 'poly'}. Best is trial 4 with value: 1.0.\n",
            "[I 2024-07-15 03:09:12,561] Trial 38 finished with value: 0.3 and parameters: {'C': 0.00015908659183835097, 'kernel': 'sigmoid'}. Best is trial 4 with value: 1.0.\n",
            "[I 2024-07-15 03:09:12,576] Trial 39 finished with value: 0.3 and parameters: {'C': 4.1136041970571814e-07, 'kernel': 'rbf'}. Best is trial 4 with value: 1.0.\n",
            "[I 2024-07-15 03:09:12,590] Trial 40 finished with value: 1.0 and parameters: {'C': 4023.5243596124014, 'kernel': 'linear'}. Best is trial 4 with value: 1.0.\n",
            "[I 2024-07-15 03:09:12,603] Trial 41 finished with value: 0.9666666666666667 and parameters: {'C': 1.808457892175155, 'kernel': 'poly'}. Best is trial 4 with value: 1.0.\n",
            "[I 2024-07-15 03:09:12,617] Trial 42 finished with value: 1.0 and parameters: {'C': 0.23520759645123865, 'kernel': 'poly'}. Best is trial 4 with value: 1.0.\n",
            "[I 2024-07-15 03:09:12,632] Trial 43 finished with value: 1.0 and parameters: {'C': 62.99791884328971, 'kernel': 'poly'}. Best is trial 4 with value: 1.0.\n",
            "[I 2024-07-15 03:09:12,646] Trial 44 finished with value: 1.0 and parameters: {'C': 0.12670403949832232, 'kernel': 'poly'}. Best is trial 4 with value: 1.0.\n",
            "[I 2024-07-15 03:09:13,050] Trial 45 finished with value: 0.9666666666666667 and parameters: {'C': 1202609.6206917374, 'kernel': 'poly'}. Best is trial 4 with value: 1.0.\n",
            "[I 2024-07-15 03:09:13,063] Trial 46 finished with value: 0.9666666666666667 and parameters: {'C': 0.013130078686905024, 'kernel': 'poly'}. Best is trial 4 with value: 1.0.\n",
            "[I 2024-07-15 03:09:13,077] Trial 47 finished with value: 0.03333333333333333 and parameters: {'C': 2793.0636578180647, 'kernel': 'sigmoid'}. Best is trial 4 with value: 1.0.\n",
            "[I 2024-07-15 03:09:13,090] Trial 48 finished with value: 1.0 and parameters: {'C': 5.161320100755658, 'kernel': 'poly'}. Best is trial 4 with value: 1.0.\n",
            "[I 2024-07-15 03:09:13,490] Trial 49 finished with value: 0.9666666666666667 and parameters: {'C': 104857.7720059849, 'kernel': 'poly'}. Best is trial 4 with value: 1.0.\n",
            "[I 2024-07-15 03:09:13,505] Trial 50 finished with value: 0.9666666666666667 and parameters: {'C': 91.33008643278268, 'kernel': 'rbf'}. Best is trial 4 with value: 1.0.\n",
            "[I 2024-07-15 03:09:13,519] Trial 51 finished with value: 1.0 and parameters: {'C': 0.6281675817271931, 'kernel': 'poly'}. Best is trial 4 with value: 1.0.\n",
            "[I 2024-07-15 03:09:13,534] Trial 52 finished with value: 1.0 and parameters: {'C': 6.840292903473892, 'kernel': 'poly'}. Best is trial 4 with value: 1.0.\n",
            "[I 2024-07-15 03:09:13,557] Trial 53 finished with value: 1.0 and parameters: {'C': 1368.5487523994734, 'kernel': 'poly'}. Best is trial 4 with value: 1.0.\n",
            "[I 2024-07-15 03:09:13,572] Trial 54 finished with value: 1.0 and parameters: {'C': 38.734149220625426, 'kernel': 'poly'}. Best is trial 4 with value: 1.0.\n",
            "[I 2024-07-15 03:09:13,629] Trial 55 finished with value: 0.9666666666666667 and parameters: {'C': 28006.022336635724, 'kernel': 'poly'}. Best is trial 4 with value: 1.0.\n",
            "[I 2024-07-15 03:09:13,643] Trial 56 finished with value: 0.9333333333333333 and parameters: {'C': 0.000756454149114455, 'kernel': 'poly'}. Best is trial 4 with value: 1.0.\n",
            "[I 2024-07-15 03:09:13,657] Trial 57 finished with value: 1.0 and parameters: {'C': 0.25160453877121647, 'kernel': 'linear'}. Best is trial 4 with value: 1.0.\n",
            "[I 2024-07-15 03:09:13,671] Trial 58 finished with value: 1.0 and parameters: {'C': 0.02187236302145511, 'kernel': 'poly'}. Best is trial 4 with value: 1.0.\n",
            "[I 2024-07-15 03:09:13,686] Trial 59 finished with value: 0.03333333333333333 and parameters: {'C': 115.70760764505599, 'kernel': 'sigmoid'}. Best is trial 4 with value: 1.0.\n",
            "[I 2024-07-15 03:09:13,700] Trial 60 finished with value: 0.9666666666666667 and parameters: {'C': 0.0028506626449147894, 'kernel': 'poly'}. Best is trial 4 with value: 1.0.\n",
            "[I 2024-07-15 03:09:13,713] Trial 61 finished with value: 1.0 and parameters: {'C': 2.7091447873767676, 'kernel': 'linear'}. Best is trial 4 with value: 1.0.\n",
            "[I 2024-07-15 03:09:13,727] Trial 62 finished with value: 1.0 and parameters: {'C': 0.596572608216539, 'kernel': 'linear'}. Best is trial 4 with value: 1.0.\n",
            "[I 2024-07-15 03:09:13,740] Trial 63 finished with value: 1.0 and parameters: {'C': 0.05838211205510041, 'kernel': 'linear'}. Best is trial 4 with value: 1.0.\n",
            "[I 2024-07-15 03:09:13,753] Trial 64 finished with value: 1.0 and parameters: {'C': 789.3349754723895, 'kernel': 'linear'}. Best is trial 4 with value: 1.0.\n",
            "[I 2024-07-15 03:09:13,774] Trial 65 finished with value: 1.0 and parameters: {'C': 17.957101261811662, 'kernel': 'poly'}. Best is trial 4 with value: 1.0.\n",
            "[I 2024-07-15 03:09:13,792] Trial 66 finished with value: 0.9666666666666667 and parameters: {'C': 5.540373516093421, 'kernel': 'linear'}. Best is trial 4 with value: 1.0.\n",
            "[I 2024-07-15 03:09:13,806] Trial 67 finished with value: 1.0 and parameters: {'C': 175.5165471452741, 'kernel': 'rbf'}. Best is trial 4 with value: 1.0.\n",
            "[I 2024-07-15 03:09:13,824] Trial 68 finished with value: 0.9666666666666667 and parameters: {'C': 0.0028745744097071584, 'kernel': 'poly'}. Best is trial 4 with value: 1.0.\n",
            "[I 2024-07-15 03:09:13,838] Trial 69 finished with value: 1.0 and parameters: {'C': 0.6310039093608664, 'kernel': 'poly'}. Best is trial 4 with value: 1.0.\n",
            "[I 2024-07-15 03:09:13,854] Trial 70 finished with value: 0.3 and parameters: {'C': 0.00011857471171554417, 'kernel': 'poly'}. Best is trial 4 with value: 1.0.\n",
            "[I 2024-07-15 03:09:13,872] Trial 71 finished with value: 1.0 and parameters: {'C': 14.922915271282307, 'kernel': 'poly'}. Best is trial 4 with value: 1.0.\n",
            "[I 2024-07-15 03:09:13,887] Trial 72 finished with value: 1.0 and parameters: {'C': 0.1427607992429057, 'kernel': 'poly'}. Best is trial 4 with value: 1.0.\n",
            "[I 2024-07-15 03:09:13,900] Trial 73 finished with value: 1.0 and parameters: {'C': 41.581391840005395, 'kernel': 'poly'}. Best is trial 4 with value: 1.0.\n",
            "[I 2024-07-15 03:09:13,943] Trial 74 finished with value: 0.9666666666666667 and parameters: {'C': 12611.260743078035, 'kernel': 'poly'}. Best is trial 4 with value: 1.0.\n",
            "[I 2024-07-15 03:09:13,959] Trial 75 finished with value: 0.03333333333333333 and parameters: {'C': 868.4791358416866, 'kernel': 'sigmoid'}. Best is trial 4 with value: 1.0.\n",
            "[I 2024-07-15 03:09:13,972] Trial 76 finished with value: 1.0 and parameters: {'C': 0.03953220889715131, 'kernel': 'poly'}. Best is trial 4 with value: 1.0.\n",
            "[I 2024-07-15 03:09:13,986] Trial 77 finished with value: 0.9666666666666667 and parameters: {'C': 1.8732487375236133, 'kernel': 'poly'}. Best is trial 4 with value: 1.0.\n",
            "[I 2024-07-15 03:09:14,001] Trial 78 finished with value: 0.9666666666666667 and parameters: {'C': 10.058628780563426, 'kernel': 'linear'}. Best is trial 4 with value: 1.0.\n",
            "[I 2024-07-15 03:09:14,014] Trial 79 finished with value: 1.0 and parameters: {'C': 0.584602810027155, 'kernel': 'poly'}. Best is trial 4 with value: 1.0.\n",
            "[I 2024-07-15 03:09:14,028] Trial 80 finished with value: 1.0 and parameters: {'C': 284.2014051547641, 'kernel': 'rbf'}. Best is trial 4 with value: 1.0.\n",
            "[I 2024-07-15 03:09:14,042] Trial 81 finished with value: 1.0 and parameters: {'C': 40.082963465706555, 'kernel': 'poly'}. Best is trial 4 with value: 1.0.\n",
            "[I 2024-07-15 03:09:14,055] Trial 82 finished with value: 0.9666666666666667 and parameters: {'C': 4.163366138167171, 'kernel': 'poly'}. Best is trial 4 with value: 1.0.\n",
            "[I 2024-07-15 03:09:14,084] Trial 83 finished with value: 1.0 and parameters: {'C': 1827.4348464710658, 'kernel': 'poly'}. Best is trial 4 with value: 1.0.\n",
            "[I 2024-07-15 03:09:14,098] Trial 84 finished with value: 1.0 and parameters: {'C': 20.329155477416393, 'kernel': 'poly'}. Best is trial 4 with value: 1.0.\n",
            "[I 2024-07-15 03:09:14,112] Trial 85 finished with value: 0.9666666666666667 and parameters: {'C': 0.007244667874707531, 'kernel': 'poly'}. Best is trial 4 with value: 1.0.\n",
            "[I 2024-07-15 03:09:14,125] Trial 86 finished with value: 1.0 and parameters: {'C': 0.16917937225299823, 'kernel': 'poly'}. Best is trial 4 with value: 1.0.\n",
            "[I 2024-07-15 03:09:14,139] Trial 87 finished with value: 1.0 and parameters: {'C': 94.75866370728669, 'kernel': 'poly'}. Best is trial 4 with value: 1.0.\n",
            "[I 2024-07-15 03:09:14,546] Trial 88 finished with value: 0.9666666666666667 and parameters: {'C': 50270181.050451435, 'kernel': 'poly'}. Best is trial 4 with value: 1.0.\n",
            "[I 2024-07-15 03:09:14,561] Trial 89 finished with value: 0.3 and parameters: {'C': 1.4731285117062956, 'kernel': 'sigmoid'}. Best is trial 4 with value: 1.0.\n",
            "[I 2024-07-15 03:09:14,579] Trial 90 finished with value: 1.0 and parameters: {'C': 360.45256969338345, 'kernel': 'poly'}. Best is trial 4 with value: 1.0.\n",
            "[I 2024-07-15 03:09:14,655] Trial 91 finished with value: 0.9666666666666667 and parameters: {'C': 10412.15373835032, 'kernel': 'poly'}. Best is trial 4 with value: 1.0.\n",
            "[I 2024-07-15 03:09:14,681] Trial 92 finished with value: 1.0 and parameters: {'C': 3927.0238620077193, 'kernel': 'poly'}. Best is trial 4 with value: 1.0.\n",
            "[I 2024-07-15 03:09:14,703] Trial 93 finished with value: 1.0 and parameters: {'C': 609.4891116384389, 'kernel': 'poly'}. Best is trial 4 with value: 1.0.\n",
            "[I 2024-07-15 03:09:14,730] Trial 94 finished with value: 1.0 and parameters: {'C': 166339.43294231317, 'kernel': 'linear'}. Best is trial 4 with value: 1.0.\n",
            "[I 2024-07-15 03:09:14,743] Trial 95 finished with value: 1.0 and parameters: {'C': 9.544630962241262, 'kernel': 'poly'}. Best is trial 4 with value: 1.0.\n",
            "[I 2024-07-15 03:09:14,760] Trial 96 finished with value: 1.0 and parameters: {'C': 117.37823410053791, 'kernel': 'poly'}. Best is trial 4 with value: 1.0.\n",
            "[I 2024-07-15 03:09:14,775] Trial 97 finished with value: 0.9333333333333333 and parameters: {'C': 0.07241137632129489, 'kernel': 'rbf'}. Best is trial 4 with value: 1.0.\n",
            "[I 2024-07-15 03:09:14,789] Trial 98 finished with value: 1.0 and parameters: {'C': 0.40052057940605323, 'kernel': 'poly'}. Best is trial 4 with value: 1.0.\n",
            "[I 2024-07-15 03:09:14,805] Trial 99 finished with value: 0.9666666666666667 and parameters: {'C': 4.026159221950343, 'kernel': 'poly'}. Best is trial 4 with value: 1.0.\n"
          ]
        }
      ]
    },
    {
      "cell_type": "markdown",
      "source": [
        " A study object allows us to run the optimization process. The study object is created using the create_study() function, which defines the direction (or directions) that we want to optimize our criteria by.\n",
        "\n",
        "The create_study() function takes a parameter, direction=, which allows us to specify the direction in which we want the evaluation criteria should go in."
      ],
      "metadata": {
        "id": "QqzXg_T3WRN0"
      }
    },
    {
      "cell_type": "code",
      "source": [
        "# Evaluating our Optuna Trial\n",
        "print(\"Best trial:\", study.best_trial.number)\n",
        "print(\"Best accuracy:\", study.best_trial.value)\n",
        "print(\"Best hyperparameters:\", study.best_params)"
      ],
      "metadata": {
        "colab": {
          "base_uri": "https://localhost:8080/"
        },
        "id": "1y_xWwpsWV_8",
        "outputId": "69104c2d-a549-4ac7-f42a-d0320b23675c"
      },
      "execution_count": 20,
      "outputs": [
        {
          "output_type": "stream",
          "name": "stdout",
          "text": [
            "Best trial: 4\n",
            "Best accuracy: 1.0\n",
            "Best hyperparameters: {'C': 31.318140794712193, 'kernel': 'poly'}\n"
          ]
        }
      ]
    },
    {
      "cell_type": "markdown",
      "source": [
        "https://datagy.io/python-optuna/\n",
        "\n",
        "For more information on Optuna, check out this website"
      ],
      "metadata": {
        "id": "sRJbeZK4YF-Z"
      }
    },
    {
      "cell_type": "markdown",
      "source": [
        "Optuna defines the search spaces by defining the range and type of values that can be explored during the hyperparameter optimization process. We can define the search space by specifying the distributions for each hyperparameter, where different samplers are used to sample values from the distributions."
      ],
      "metadata": {
        "id": "EIVvxKYmXs5J"
      }
    }
  ]
}